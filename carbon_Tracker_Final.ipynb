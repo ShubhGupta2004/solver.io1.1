{
  "nbformat": 4,
  "nbformat_minor": 0,
  "metadata": {
    "colab": {
      "provenance": [],
      "authorship_tag": "ABX9TyNrHcUmr718izDYMk1bRUj6",
      "include_colab_link": true
    },
    "kernelspec": {
      "name": "python3",
      "display_name": "Python 3"
    },
    "language_info": {
      "name": "python"
    }
  },
  "cells": [
    {
      "cell_type": "markdown",
      "metadata": {
        "id": "view-in-github",
        "colab_type": "text"
      },
      "source": [
        "<a href=\"https://colab.research.google.com/github/ShubhGupta2004/solver.io1.1/blob/main/carbon_Tracker_Final.ipynb\" target=\"_parent\"><img src=\"https://colab.research.google.com/assets/colab-badge.svg\" alt=\"Open In Colab\"/></a>"
      ]
    },
    {
      "cell_type": "code",
      "source": [
        "import pandas as pd\n",
        "from sklearn.model_selection import train_test_split\n",
        "from sklearn.linear_model import LinearRegression\n",
        "from sklearn.metrics import mean_squared_error\n",
        "from sklearn.metrics import r2_score"
      ],
      "metadata": {
        "id": "6PHURP_TEYii"
      },
      "execution_count": 23,
      "outputs": []
    },
    {
      "cell_type": "code",
      "source": [
        "data = pd.read_csv('csv_CarbonB.csv')\n",
        "print(data)"
      ],
      "metadata": {
        "colab": {
          "base_uri": "https://localhost:8080/"
        },
        "id": "iZ_tJ2P4EZTo",
        "outputId": "9e783148-aff7-4cfb-cff2-9ebbe9f56d4f"
      },
      "execution_count": 24,
      "outputs": [
        {
          "output_type": "stream",
          "name": "stdout",
          "text": [
            "     Air Conditioner Usage (in hours)  Water Heater Usage (in minutes)  \\\n",
            "0                                   4                                2   \n",
            "1                                   2                                7   \n",
            "2                                   5                                4   \n",
            "3                                   3                                3   \n",
            "4                                   6                                5   \n",
            "..                                ...                              ...   \n",
            "195                                 2                                5   \n",
            "196                                 3                                6   \n",
            "197                                 4                                8   \n",
            "198                                 1                                3   \n",
            "199                                 2                                5   \n",
            "\n",
            "     Washing Machine Usage (in hours)  Incandescent Bulbs Usage (in hours)  \\\n",
            "0                                1.00                                    6   \n",
            "1                                1.50                                    3   \n",
            "2                                2.00                                    2   \n",
            "3                                1.25                                    4   \n",
            "4                                0.75                                    1   \n",
            "..                                ...                                  ...   \n",
            "195                              1.25                                    4   \n",
            "196                              1.75                                    4   \n",
            "197                              2.25                                    5   \n",
            "198                              0.75                                    2   \n",
            "199                              1.25                                    4   \n",
            "\n",
            "     Compact Fluorescent Bulbs Usage (in hours)  LED Bulbs Usage (in hours)  \\\n",
            "0                                             4                           2   \n",
            "1                                             2                           1   \n",
            "2                                             1                           4   \n",
            "3                                             3                           2   \n",
            "4                                             2                           1   \n",
            "..                                          ...                         ...   \n",
            "195                                           2                           4   \n",
            "196                                           3                           2   \n",
            "197                                           1                           3   \n",
            "198                                           3                           1   \n",
            "199                                           2                           4   \n",
            "\n",
            "     1 Star  2 Stars  3 Stars  4 Stars  ...  Water Usage (in litres)  \\\n",
            "0         1        0        0        0  ...                     15.6   \n",
            "1         0        1        0        0  ...                     10.2   \n",
            "2         0        0        1        0  ...                     13.1   \n",
            "3         0        0        0        1  ...                     12.5   \n",
            "4         0        0        0        0  ...                     14.8   \n",
            "..      ...      ...      ...      ...  ...                      ...   \n",
            "195       0        0        0        0  ...                      8.0   \n",
            "196       0        0        1        0  ...                      9.6   \n",
            "197       0        1        0        0  ...                     11.2   \n",
            "198       1        0        0        0  ...                      5.8   \n",
            "199       0        0        0        0  ...                      7.4   \n",
            "\n",
            "     Bike Distance (in km)  Car Distance (in km)  Bicycle Distance (in km)  \\\n",
            "0                     12.8                  25.4                      12.8   \n",
            "1                      8.5                  16.2                      11.8   \n",
            "2                     14.3                   9.5                      15.2   \n",
            "3                      9.8                  21.7                       8.5   \n",
            "4                     11.2                  12.5                      10.9   \n",
            "..                     ...                   ...                       ...   \n",
            "195                    5.6                   8.2                       7.6   \n",
            "196                    6.4                  11.6                       8.8   \n",
            "197                    7.6                  13.2                      10.1   \n",
            "198                    4.6                   7.7                       6.6   \n",
            "199                    5.4                   8.0                       7.3   \n",
            "\n",
            "      BMI  BMR (kJ per day)  Age (years)  Sex  Exercise Time (in minutes)  \\\n",
            "0    28.4              7100           18  0.8                          30   \n",
            "1    24.6              6400           35  0.3                          45   \n",
            "2    27.3              7200           22  0.8                          35   \n",
            "3    26.1              6200           28  0.3                          25   \n",
            "4    29.7              6900           19  0.8                          40   \n",
            "..    ...               ...          ...  ...                         ...   \n",
            "195  20.0              4900           28  0.8                          30   \n",
            "196  21.4              5300           30  0.3                          35   \n",
            "197  22.9              5700           31  0.8                          40   \n",
            "198  18.8              4600           25  0.3                          20   \n",
            "199  19.6              4800           27  0.8                          30   \n",
            "\n",
            "     Carbon Emission (metric tons)  \n",
            "0                           15.827  \n",
            "1                           12.239  \n",
            "2                           17.532  \n",
            "3                           14.125  \n",
            "4                           16.723  \n",
            "..                             ...  \n",
            "195                         12.214  \n",
            "196                         12.719  \n",
            "197                         14.006  \n",
            "198                         10.942  \n",
            "199                         11.988  \n",
            "\n",
            "[200 rows x 22 columns]\n"
          ]
        }
      ]
    },
    {
      "cell_type": "code",
      "source": [
        "X = data.drop('Carbon Emission (metric tons)', axis=1)\n",
        "y = data['Carbon Emission (metric tons)']\n",
        "print(\"X : \\n\")\n",
        "print(X)\n",
        "print(\"\\n\")\n",
        "print(\"y : \\n\")\n",
        "print(y)\n"
      ],
      "metadata": {
        "colab": {
          "base_uri": "https://localhost:8080/"
        },
        "id": "t8L3Eu-REbWX",
        "outputId": "b9858307-0fdd-4c8e-e470-304433d56441"
      },
      "execution_count": 25,
      "outputs": [
        {
          "output_type": "stream",
          "name": "stdout",
          "text": [
            "X : \n",
            "\n",
            "     Air Conditioner Usage (in hours)  Water Heater Usage (in minutes)  \\\n",
            "0                                   4                                2   \n",
            "1                                   2                                7   \n",
            "2                                   5                                4   \n",
            "3                                   3                                3   \n",
            "4                                   6                                5   \n",
            "..                                ...                              ...   \n",
            "195                                 2                                5   \n",
            "196                                 3                                6   \n",
            "197                                 4                                8   \n",
            "198                                 1                                3   \n",
            "199                                 2                                5   \n",
            "\n",
            "     Washing Machine Usage (in hours)  Incandescent Bulbs Usage (in hours)  \\\n",
            "0                                1.00                                    6   \n",
            "1                                1.50                                    3   \n",
            "2                                2.00                                    2   \n",
            "3                                1.25                                    4   \n",
            "4                                0.75                                    1   \n",
            "..                                ...                                  ...   \n",
            "195                              1.25                                    4   \n",
            "196                              1.75                                    4   \n",
            "197                              2.25                                    5   \n",
            "198                              0.75                                    2   \n",
            "199                              1.25                                    4   \n",
            "\n",
            "     Compact Fluorescent Bulbs Usage (in hours)  LED Bulbs Usage (in hours)  \\\n",
            "0                                             4                           2   \n",
            "1                                             2                           1   \n",
            "2                                             1                           4   \n",
            "3                                             3                           2   \n",
            "4                                             2                           1   \n",
            "..                                          ...                         ...   \n",
            "195                                           2                           4   \n",
            "196                                           3                           2   \n",
            "197                                           1                           3   \n",
            "198                                           3                           1   \n",
            "199                                           2                           4   \n",
            "\n",
            "     1 Star  2 Stars  3 Stars  4 Stars  ...  Oven Usage (in hours)  \\\n",
            "0         1        0        0        0  ...                    3.1   \n",
            "1         0        1        0        0  ...                    2.5   \n",
            "2         0        0        1        0  ...                    2.2   \n",
            "3         0        0        0        1  ...                    1.8   \n",
            "4         0        0        0        0  ...                    2.6   \n",
            "..      ...      ...      ...      ...  ...                    ...   \n",
            "195       0        0        0        0  ...                    0.4   \n",
            "196       0        0        1        0  ...                    0.8   \n",
            "197       0        1        0        0  ...                    1.2   \n",
            "198       1        0        0        0  ...                    0.0   \n",
            "199       0        0        0        0  ...                    0.3   \n",
            "\n",
            "     Water Usage (in litres)  Bike Distance (in km)  Car Distance (in km)  \\\n",
            "0                       15.6                   12.8                  25.4   \n",
            "1                       10.2                    8.5                  16.2   \n",
            "2                       13.1                   14.3                   9.5   \n",
            "3                       12.5                    9.8                  21.7   \n",
            "4                       14.8                   11.2                  12.5   \n",
            "..                       ...                    ...                   ...   \n",
            "195                      8.0                    5.6                   8.2   \n",
            "196                      9.6                    6.4                  11.6   \n",
            "197                     11.2                    7.6                  13.2   \n",
            "198                      5.8                    4.6                   7.7   \n",
            "199                      7.4                    5.4                   8.0   \n",
            "\n",
            "     Bicycle Distance (in km)   BMI  BMR (kJ per day)  Age (years)  Sex  \\\n",
            "0                        12.8  28.4              7100           18  0.8   \n",
            "1                        11.8  24.6              6400           35  0.3   \n",
            "2                        15.2  27.3              7200           22  0.8   \n",
            "3                         8.5  26.1              6200           28  0.3   \n",
            "4                        10.9  29.7              6900           19  0.8   \n",
            "..                        ...   ...               ...          ...  ...   \n",
            "195                       7.6  20.0              4900           28  0.8   \n",
            "196                       8.8  21.4              5300           30  0.3   \n",
            "197                      10.1  22.9              5700           31  0.8   \n",
            "198                       6.6  18.8              4600           25  0.3   \n",
            "199                       7.3  19.6              4800           27  0.8   \n",
            "\n",
            "     Exercise Time (in minutes)  \n",
            "0                            30  \n",
            "1                            45  \n",
            "2                            35  \n",
            "3                            25  \n",
            "4                            40  \n",
            "..                          ...  \n",
            "195                          30  \n",
            "196                          35  \n",
            "197                          40  \n",
            "198                          20  \n",
            "199                          30  \n",
            "\n",
            "[200 rows x 21 columns]\n",
            "\n",
            "\n",
            "y : \n",
            "\n",
            "0      15.827\n",
            "1      12.239\n",
            "2      17.532\n",
            "3      14.125\n",
            "4      16.723\n",
            "        ...  \n",
            "195    12.214\n",
            "196    12.719\n",
            "197    14.006\n",
            "198    10.942\n",
            "199    11.988\n",
            "Name: Carbon Emission (metric tons), Length: 200, dtype: float64\n"
          ]
        }
      ]
    },
    {
      "cell_type": "code",
      "source": [
        "X_train, X_test, y_train, y_test = train_test_split(X, y, test_size=0.2, random_state=42)\n",
        "X_train, X_val, y_train, y_val = train_test_split(X_train, y_train, test_size=0.2, random_state=42)"
      ],
      "metadata": {
        "id": "aEjNzhYAEc9W"
      },
      "execution_count": 26,
      "outputs": []
    },
    {
      "cell_type": "code",
      "source": [
        "y_train"
      ],
      "metadata": {
        "colab": {
          "base_uri": "https://localhost:8080/"
        },
        "id": "nFYq8YKeFXMT",
        "outputId": "fc48c6b9-f9dc-4ae8-accf-6dcc4796505e"
      },
      "execution_count": 27,
      "outputs": [
        {
          "output_type": "execute_result",
          "data": {
            "text/plain": [
              "4      16.723\n",
              "59     16.432\n",
              "38     16.587\n",
              "183    12.897\n",
              "85     16.482\n",
              "        ...  \n",
              "0      15.827\n",
              "7      15.275\n",
              "117    16.343\n",
              "94     15.349\n",
              "185    14.796\n",
              "Name: Carbon Emission (metric tons), Length: 128, dtype: float64"
            ]
          },
          "metadata": {},
          "execution_count": 27
        }
      ]
    },
    {
      "cell_type": "code",
      "source": [
        "# Model Creation\n",
        "model = LinearRegression()\n",
        "model.fit(X_train, y_train)\n",
        "y_val_pred = model.predict(X_val)\n",
        "y_val_pred"
      ],
      "metadata": {
        "colab": {
          "base_uri": "https://localhost:8080/"
        },
        "id": "Q6AKkt_cEflu",
        "outputId": "ac48c2af-059f-4fa7-e5a5-04e3788d078d"
      },
      "execution_count": 28,
      "outputs": [
        {
          "output_type": "execute_result",
          "data": {
            "text/plain": [
              "array([16.14597085, 16.92685618, 15.39526165, 11.12148143, 15.9769292 ,\n",
              "       15.60147386, 12.09188654, 17.64531539, 13.9132909 , 16.68055262,\n",
              "       15.70618531, 14.87453015, 15.42698026, 16.40350398, 15.9121639 ,\n",
              "       16.03302573, 12.92954692, 15.75519407, 15.08546357, 16.67336433,\n",
              "       15.55321605, 14.32620916, 15.59843918, 15.67967596, 15.46035493,\n",
              "       11.90250126, 16.70822078, 14.33622341, 16.07505691, 15.69166751,\n",
              "       16.990503  , 14.0948231 ])"
            ]
          },
          "metadata": {},
          "execution_count": 28
        }
      ]
    },
    {
      "cell_type": "code",
      "source": [
        "mse_val = mean_squared_error(y_val, y_val_pred)\n",
        "print('Validation Mean Squared Error:', mse_val)\n",
        "\n",
        "# Make predictions on the test data\n",
        "y_test_pred = model.predict(X_test)\n",
        "\n",
        "# Evaluate the model using mean squared error (MSE) on the test set\n",
        "mse_test = mean_squared_error(y_test, y_test_pred)\n",
        "print('Test Mean Squared Error:', mse_test)"
      ],
      "metadata": {
        "colab": {
          "base_uri": "https://localhost:8080/"
        },
        "id": "dkLV8QIaEtvc",
        "outputId": "92a1d084-0678-4c77-d3f5-aa40df4657e9"
      },
      "execution_count": 29,
      "outputs": [
        {
          "output_type": "stream",
          "name": "stdout",
          "text": [
            "Validation Mean Squared Error: 0.3384661743611438\n",
            "Test Mean Squared Error: 0.2558785800213269\n"
          ]
        }
      ]
    },
    {
      "cell_type": "code",
      "source": [
        "# Calculate R-squared score for the validation set\n",
        "r2_val = r2_score(y_val, y_val_pred)\n",
        "print(\"Validation R-squared Score:\", r2_val*100)\n",
        "\n",
        "# Calculate R-squared score for the test set\n",
        "r2_test = r2_score(y_test, y_test_pred)\n",
        "print(\"Test R-squared Score:\", r2_test*100)\n"
      ],
      "metadata": {
        "colab": {
          "base_uri": "https://localhost:8080/"
        },
        "id": "FcalxNTCEyWX",
        "outputId": "d6383be3-0a90-4e80-ad45-4a6152519a15"
      },
      "execution_count": 30,
      "outputs": [
        {
          "output_type": "stream",
          "name": "stdout",
          "text": [
            "Validation R-squared Score: 86.21266556953968\n",
            "Test R-squared Score: 86.15679988019696\n"
          ]
        }
      ]
    }
  ]
}