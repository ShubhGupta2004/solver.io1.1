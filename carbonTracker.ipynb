{
  "nbformat": 4,
  "nbformat_minor": 0,
  "metadata": {
    "colab": {
      "provenance": [],
      "authorship_tag": "ABX9TyNKbszV7pKZAuH7e9OeRyCN",
      "include_colab_link": true
    },
    "kernelspec": {
      "name": "python3",
      "display_name": "Python 3"
    },
    "language_info": {
      "name": "python"
    }
  },
  "cells": [
    {
      "cell_type": "markdown",
      "metadata": {
        "id": "view-in-github",
        "colab_type": "text"
      },
      "source": [
        "<a href=\"https://colab.research.google.com/github/ShubhGupta2004/GreenTracker/blob/main/carbonTracker.ipynb\" target=\"_parent\"><img src=\"https://colab.research.google.com/assets/colab-badge.svg\" alt=\"Open In Colab\"/></a>"
      ]
    },
    {
      "cell_type": "code",
      "source": [
        "import pandas as pd\n",
        "from sklearn.linear_model import LinearRegression\n",
        "from sklearn.model_selection import train_test_split\n",
        "from sklearn.metrics import mean_squared_error, r2_score"
      ],
      "metadata": {
        "id": "JVgIAcd8Iqjw"
      },
      "execution_count": null,
      "outputs": []
    },
    {
      "cell_type": "code",
      "source": [
        "# Load the dataset\n",
        "data = pd.read_csv(\"csv_Carbon.csv\")\n",
        "print(data)"
      ],
      "metadata": {
        "colab": {
          "base_uri": "https://localhost:8080/"
        },
        "id": "2mxFhpKPIr6z",
        "outputId": "e136041c-d9de-4fd9-a2b3-56b17f77d35c"
      },
      "execution_count": null,
      "outputs": [
        {
          "output_type": "stream",
          "name": "stdout",
          "text": [
            "     Person  Fan Usage (hours)  TV Usage (hours)  Fridge Usage (hours)  \\\n",
            "0         1                5.5               2.3                   3.1   \n",
            "1         2                3.8               1.5                   2.8   \n",
            "2         3                4.2               1.8                   2.5   \n",
            "3         4                2.9               1.2                   3.5   \n",
            "4         5                6.1               2.5                   2.1   \n",
            "..      ...                ...               ...                   ...   \n",
            "338     339                3.0               3.0                   1.0   \n",
            "339     340                4.0               1.0                   3.0   \n",
            "340     341                2.0               4.0                   4.0   \n",
            "341     342                3.0               2.0                   2.0   \n",
            "342     343                1.0               5.0                   3.0   \n",
            "\n",
            "     Water Usage (litres)  Bike Distance (km)  Car Distance (km)  \\\n",
            "0                    15.6                10.2               25.4   \n",
            "1                    12.2                 8.4               15.7   \n",
            "2                    13.8                 7.9               18.2   \n",
            "3                    14.5                 6.5               12.8   \n",
            "4                    16.3                11.8               27.9   \n",
            "..                    ...                 ...                ...   \n",
            "338                  10.0                 0.0                0.0   \n",
            "339                   8.0                 0.0                0.0   \n",
            "340                  12.0                 0.0                0.0   \n",
            "341                  10.0                 0.0                0.0   \n",
            "342                   5.0                 0.0                0.0   \n",
            "\n",
            "     Bicycle Distance (km)  Meat Calorie Intake  Grain Calorie Intake  \\\n",
            "0                     12.8                 1200                  1500   \n",
            "1                      9.1                  800                  1100   \n",
            "2                      8.5                  950                  1300   \n",
            "3                      7.6                  750                   900   \n",
            "4                     13.4                 1400                  1700   \n",
            "..                     ...                  ...                   ...   \n",
            "338                    0.0                 2000                  1200   \n",
            "339                    0.0                 2100                  1100   \n",
            "340                    0.0                 1900                  1500   \n",
            "341                    0.0                 2200                  1400   \n",
            "342                    0.0                 1800                  1600   \n",
            "\n",
            "     Dairy Calorie Intake  Fruit Calorie Intake  CO2 Emitted (metric tons)  \n",
            "0                     900                   800                    15.8270  \n",
            "1                     700                   600                    10.9210  \n",
            "2                     850                   700                    11.6980  \n",
            "3                     650                   500                     9.7630  \n",
            "4                    1000                   950                    17.6120  \n",
            "..                    ...                   ...                        ...  \n",
            "338                   400                   200                     2.6492  \n",
            "339                   600                   400                     3.1228  \n",
            "340                   700                   300                     3.3601  \n",
            "341                   800                   200                     3.2673  \n",
            "342                   400                   400                     3.1422  \n",
            "\n",
            "[343 rows x 13 columns]\n"
          ]
        }
      ]
    },
    {
      "cell_type": "code",
      "source": [
        "# Split the dataset into input features (X) and target variable (y)\n",
        "X = data.drop(\"CO2 Emitted (metric tons)\", axis=1)\n",
        "print(\"X : \\n\")\n",
        "print(X)\n",
        "print(\"\\n\")\n",
        "y = data[\"CO2 Emitted (metric tons)\"]\n",
        "print(\"y : \\n\")\n",
        "print(y)"
      ],
      "metadata": {
        "colab": {
          "base_uri": "https://localhost:8080/"
        },
        "id": "rb2TfvDXIufi",
        "outputId": "c80a0e85-0537-456e-96fc-cac1d661cc73"
      },
      "execution_count": null,
      "outputs": [
        {
          "output_type": "stream",
          "name": "stdout",
          "text": [
            "X : \n",
            "\n",
            "     Person  Fan Usage (hours)  TV Usage (hours)  Fridge Usage (hours)  \\\n",
            "0         1                5.5               2.3                   3.1   \n",
            "1         2                3.8               1.5                   2.8   \n",
            "2         3                4.2               1.8                   2.5   \n",
            "3         4                2.9               1.2                   3.5   \n",
            "4         5                6.1               2.5                   2.1   \n",
            "..      ...                ...               ...                   ...   \n",
            "338     339                3.0               3.0                   1.0   \n",
            "339     340                4.0               1.0                   3.0   \n",
            "340     341                2.0               4.0                   4.0   \n",
            "341     342                3.0               2.0                   2.0   \n",
            "342     343                1.0               5.0                   3.0   \n",
            "\n",
            "     Water Usage (litres)  Bike Distance (km)  Car Distance (km)  \\\n",
            "0                    15.6                10.2               25.4   \n",
            "1                    12.2                 8.4               15.7   \n",
            "2                    13.8                 7.9               18.2   \n",
            "3                    14.5                 6.5               12.8   \n",
            "4                    16.3                11.8               27.9   \n",
            "..                    ...                 ...                ...   \n",
            "338                  10.0                 0.0                0.0   \n",
            "339                   8.0                 0.0                0.0   \n",
            "340                  12.0                 0.0                0.0   \n",
            "341                  10.0                 0.0                0.0   \n",
            "342                   5.0                 0.0                0.0   \n",
            "\n",
            "     Bicycle Distance (km)  Meat Calorie Intake  Grain Calorie Intake  \\\n",
            "0                     12.8                 1200                  1500   \n",
            "1                      9.1                  800                  1100   \n",
            "2                      8.5                  950                  1300   \n",
            "3                      7.6                  750                   900   \n",
            "4                     13.4                 1400                  1700   \n",
            "..                     ...                  ...                   ...   \n",
            "338                    0.0                 2000                  1200   \n",
            "339                    0.0                 2100                  1100   \n",
            "340                    0.0                 1900                  1500   \n",
            "341                    0.0                 2200                  1400   \n",
            "342                    0.0                 1800                  1600   \n",
            "\n",
            "     Dairy Calorie Intake  Fruit Calorie Intake  \n",
            "0                     900                   800  \n",
            "1                     700                   600  \n",
            "2                     850                   700  \n",
            "3                     650                   500  \n",
            "4                    1000                   950  \n",
            "..                    ...                   ...  \n",
            "338                   400                   200  \n",
            "339                   600                   400  \n",
            "340                   700                   300  \n",
            "341                   800                   200  \n",
            "342                   400                   400  \n",
            "\n",
            "[343 rows x 12 columns]\n",
            "\n",
            "\n",
            "y : \n",
            "\n",
            "0      15.8270\n",
            "1      10.9210\n",
            "2      11.6980\n",
            "3       9.7630\n",
            "4      17.6120\n",
            "        ...   \n",
            "338     2.6492\n",
            "339     3.1228\n",
            "340     3.3601\n",
            "341     3.2673\n",
            "342     3.1422\n",
            "Name: CO2 Emitted (metric tons), Length: 343, dtype: float64\n"
          ]
        }
      ]
    },
    {
      "cell_type": "code",
      "source": [
        "# Split the dataset into training and testing sets\n",
        "X_train, X_test, y_train, y_test = train_test_split(X, y, test_size=0.2, random_state=42)"
      ],
      "metadata": {
        "id": "vOL-GHhwIxh6"
      },
      "execution_count": null,
      "outputs": []
    },
    {
      "cell_type": "code",
      "source": [
        "#Create a linear regression model\n",
        "model = LinearRegression()\n",
        "\n",
        "# Train the model\n",
        "model.fit(X_train, y_train)\n",
        "\n",
        "# Make predictions on the test set\n",
        "y_pred = model.predict(X_test)\n",
        "print(y_pred)"
      ],
      "metadata": {
        "colab": {
          "base_uri": "https://localhost:8080/"
        },
        "id": "CzVFnDl-IxfT",
        "outputId": "aa8dcdd7-04bb-474b-966f-f5fad328cf85"
      },
      "execution_count": null,
      "outputs": [
        {
          "output_type": "stream",
          "name": "stdout",
          "text": [
            "[ 7.98849368 13.29722264 12.97705003 12.64988053 12.35338289  3.26889426\n",
            "  5.48386862  4.46462097  5.15165116 12.8778927  10.30158559  7.94677021\n",
            " 11.52945233  2.02279098 12.96165395 17.67356262 16.34023093 10.19620557\n",
            " 10.24228578  8.68592891  7.2765377  10.78539193 13.60607186 12.32112674\n",
            " 16.4646475  12.23734049 16.69367933  5.37376851 11.73271818  7.67347574\n",
            "  5.14436919 17.21339297  9.86809853  3.24981594 13.15780785 12.99215265\n",
            "  6.71962011  5.14220805 10.02570878 11.09442177 12.82155555  9.17170195\n",
            "  0.60565043  1.45023164  9.94215993  4.21210342 13.43548343  2.45635471\n",
            " 10.89075237 17.27301401  1.62972533  6.26363941  8.10481862 11.10292163\n",
            " 13.03430696  4.70467616 12.04749675  5.95234582 11.34974563 12.97005313\n",
            "  9.00449741  9.49387316 12.71999662  6.407095    5.62063763 11.79997233\n",
            " 12.16197867 15.70425013 11.92029584]\n"
          ]
        }
      ]
    },
    {
      "cell_type": "code",
      "source": [
        "# Calculate mean squared error\n",
        "mse = mean_squared_error(y_test, y_pred)\n",
        "print(\"Mean Squared Error:\", mse)\n",
        "\n",
        "# Calculate R-squared score\n",
        "r2 = r2_score(y_test, y_pred)\n",
        "print(\"R-squared Score:\", r2*100)"
      ],
      "metadata": {
        "colab": {
          "base_uri": "https://localhost:8080/"
        },
        "id": "SmpHgggRIxcz",
        "outputId": "2a082084-e772-4420-d830-bfc0db51c4e3"
      },
      "execution_count": null,
      "outputs": [
        {
          "output_type": "stream",
          "name": "stdout",
          "text": [
            "Mean Squared Error: 0.825369496875169\n",
            "R-squared Score: 95.44401846940134\n"
          ]
        }
      ]
    }
  ]
}